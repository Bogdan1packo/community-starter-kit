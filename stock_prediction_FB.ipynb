{
  "nbformat": 4,
  "nbformat_minor": 0,
  "metadata": {
    "colab": {
      "name": "stock_prediction_FB.ipynb",
      "provenance": [],
      "collapsed_sections": [],
      "include_colab_link": true
    },
    "kernelspec": {
      "name": "python3",
      "display_name": "Python 3"
    }
  },
  "cells": [
    {
      "cell_type": "markdown",
      "metadata": {
        "id": "view-in-github",
        "colab_type": "text"
      },
      "source": [
        "<a href=\"https://colab.research.google.com/github/Bogdan1packo/community-starter-kit/blob/master/stock_prediction_FB.ipynb\" target=\"_parent\"><img src=\"https://colab.research.google.com/assets/colab-badge.svg\" alt=\"Open In Colab\"/></a>"
      ]
    },
    {
      "cell_type": "code",
      "metadata": {
        "id": "AquDjX5qwzk_",
        "colab_type": "code",
        "colab": {}
      },
      "source": [
        "# this program will predicts prices by usinmg ML models\n",
        "# install the dependencies\n",
        "import quandl\n",
        "import numpy as np\n",
        "from sklearn.linear_model import LinearRegression\n",
        "from sklearn.svm import SVR\n",
        "from sklearn.model_selection import train_test_split"
      ],
      "execution_count": 0,
      "outputs": []
    },
    {
      "cell_type": "code",
      "metadata": {
        "id": "2VzXUYD4zJ3r",
        "colab_type": "code",
        "outputId": "73e4da5b-91a3-4dfd-c8f0-2550a6739878",
        "colab": {
          "base_uri": "https://localhost:8080/",
          "height": 170
        }
      },
      "source": [
        "# Get stock data\n",
        "df = quandl.get(\"WIKI/FB\")\n",
        "# print data\n",
        "print(df.head())"
      ],
      "execution_count": 0,
      "outputs": [
        {
          "output_type": "stream",
          "text": [
            "             Open   High    Low  ...  Adj. Low  Adj. Close  Adj. Volume\n",
            "Date                             ...                                   \n",
            "2012-05-18  42.05  45.00  38.00  ...     38.00     38.2318  573576400.0\n",
            "2012-05-21  36.53  36.66  33.00  ...     33.00     34.0300  168192700.0\n",
            "2012-05-22  32.61  33.59  30.94  ...     30.94     31.0000  101786600.0\n",
            "2012-05-23  31.37  32.50  31.36  ...     31.36     32.0000   73600000.0\n",
            "2012-05-24  32.95  33.21  31.77  ...     31.77     33.0300   50237200.0\n",
            "\n",
            "[5 rows x 12 columns]\n"
          ],
          "name": "stdout"
        }
      ]
    },
    {
      "cell_type": "code",
      "metadata": {
        "id": "w189AANo44Cz",
        "colab_type": "code",
        "outputId": "35260fd5-99dd-4ca8-9a04-f2fb00e0594e",
        "colab": {
          "base_uri": "https://localhost:8080/",
          "height": 136
        }
      },
      "source": [
        "#get adiusted close price\n",
        "df = df[['Adj. Close']]\n",
        "# print data\n",
        "print(df.head())"
      ],
      "execution_count": 0,
      "outputs": [
        {
          "output_type": "stream",
          "text": [
            "            Adj. Close\n",
            "Date                  \n",
            "2012-05-18     38.2318\n",
            "2012-05-21     34.0300\n",
            "2012-05-22     31.0000\n",
            "2012-05-23     32.0000\n",
            "2012-05-24     33.0300\n"
          ],
          "name": "stdout"
        }
      ]
    },
    {
      "cell_type": "code",
      "metadata": {
        "id": "vSgwZ9U55jKa",
        "colab_type": "code",
        "outputId": "a6665e23-0ab9-4416-a814-cdf6580a125b",
        "colab": {
          "base_uri": "https://localhost:8080/",
          "height": 255
        }
      },
      "source": [
        "# a varieble for predicting n days uut into future \n",
        "forecast_out = 30\n",
        "# Create another column thae target  or dependent veriable) shifted n units up\n",
        "df['Prediction'] = df[['Adj. Close']].shift(-forecast_out)\n",
        "#print new data set\n",
        "print(df.head())\n",
        "print(df.tail())"
      ],
      "execution_count": 0,
      "outputs": [
        {
          "output_type": "stream",
          "text": [
            "            Adj. Close  Prediction\n",
            "Date                              \n",
            "2012-05-18     38.2318      30.771\n",
            "2012-05-21     34.0300      31.200\n",
            "2012-05-22     31.0000      31.470\n",
            "2012-05-23     32.0000      31.730\n",
            "2012-05-24     33.0300      32.170\n",
            "            Adj. Close  Prediction\n",
            "Date                              \n",
            "2018-03-21      169.39         NaN\n",
            "2018-03-22      164.89         NaN\n",
            "2018-03-23      159.39         NaN\n",
            "2018-03-26      160.06         NaN\n",
            "2018-03-27      152.19         NaN\n"
          ],
          "name": "stdout"
        }
      ]
    },
    {
      "cell_type": "code",
      "metadata": {
        "id": "r79RF_wS8yyF",
        "colab_type": "code",
        "outputId": "3192c0bb-1879-4292-eb24-90c3187415f7",
        "colab": {
          "base_uri": "https://localhost:8080/",
          "height": 136
        }
      },
      "source": [
        "### Create independent data set (X) #####\n",
        "# convert  the data frame to a NP Array\n",
        "X = np.array(df.drop(['Prediction'],1))\n",
        "# Remove the last  n rows\n",
        "X = X[:-forecast_out]\n",
        "print(X)"
      ],
      "execution_count": 0,
      "outputs": [
        {
          "output_type": "stream",
          "text": [
            "[[ 38.2318]\n",
            " [ 34.03  ]\n",
            " [ 31.    ]\n",
            " ...\n",
            " [171.5499]\n",
            " [175.98  ]\n",
            " [176.41  ]]\n"
          ],
          "name": "stdout"
        }
      ]
    },
    {
      "cell_type": "code",
      "metadata": {
        "id": "VvhQM1Q49sbL",
        "colab_type": "code",
        "outputId": "054ccc44-8c18-4dad-f6c3-99ff625dd586",
        "colab": {
          "base_uri": "https://localhost:8080/",
          "height": 34
        }
      },
      "source": [
        "### Create the  dependent data set (Y) ####\n",
        "# convert the df to a NP  array (all of the value including the NaN 's)\n",
        "y = np.array(df['Prediction'])\n",
        "# get all of Y values exept last n rows\n",
        "y = y[:-forecast_out]\n",
        "print(y)"
      ],
      "execution_count": 0,
      "outputs": [
        {
          "output_type": "stream",
          "text": [
            "[ 30.771  31.2    31.47  ... 159.39  160.06  152.19 ]\n"
          ],
          "name": "stdout"
        }
      ]
    },
    {
      "cell_type": "code",
      "metadata": {
        "id": "ZYPi1Amv_JFh",
        "colab_type": "code",
        "colab": {}
      },
      "source": [
        "# Split the data set into 80%train a nd 20% test\n",
        "x_train, x_test, y_train, y_test = train_test_split(X, y, test_size=0.2) "
      ],
      "execution_count": 0,
      "outputs": []
    },
    {
      "cell_type": "code",
      "metadata": {
        "id": "_IPVYnN4_NxB",
        "colab_type": "code",
        "outputId": "9d4bee99-8259-466f-cd5a-15acf44c3aa6",
        "colab": {
          "base_uri": "https://localhost:8080/",
          "height": 51
        }
      },
      "source": [
        "# create and train the support Vector Machine (Regressor)\n",
        "svr_rbf = SVR(kernel='rbf', C=1e3, gamma=0.1)\n",
        "svr_rbf.fit(x_train, y_train)"
      ],
      "execution_count": 0,
      "outputs": [
        {
          "output_type": "execute_result",
          "data": {
            "text/plain": [
              "SVR(C=1000.0, cache_size=200, coef0=0.0, degree=3, epsilon=0.1, gamma=0.1,\n",
              "    kernel='rbf', max_iter=-1, shrinking=True, tol=0.001, verbose=False)"
            ]
          },
          "metadata": {
            "tags": []
          },
          "execution_count": 84
        }
      ]
    },
    {
      "cell_type": "code",
      "metadata": {
        "id": "Tc4BrsxqA0XH",
        "colab_type": "code",
        "outputId": "16449335-bfaa-47a9-a7f5-1f2c558c4381",
        "colab": {
          "base_uri": "https://localhost:8080/",
          "height": 34
        }
      },
      "source": [
        "# testing Model: Score result coefficient of determination R^2 of the prediction\n",
        "svm_confidence = svr_rbf.score(x_test, y_test)\n",
        "print(\"SVM Confidence: \", svm_confidence)"
      ],
      "execution_count": 0,
      "outputs": [
        {
          "output_type": "stream",
          "text": [
            "SVM Confidence:  0.984968349940774\n"
          ],
          "name": "stdout"
        }
      ]
    },
    {
      "cell_type": "code",
      "metadata": {
        "id": "6dA7fCUsCNi0",
        "colab_type": "code",
        "outputId": "eb6b4c7e-0b69-4a1c-b90e-d8756d67f2f1",
        "colab": {
          "base_uri": "https://localhost:8080/",
          "height": 34
        }
      },
      "source": [
        "# Create and train Linear Regresion Model\n",
        "lr = LinearRegression()\n",
        "# Train the Model\n",
        "lr.fit(x_train, y_train)"
      ],
      "execution_count": 0,
      "outputs": [
        {
          "output_type": "execute_result",
          "data": {
            "text/plain": [
              "LinearRegression(copy_X=True, fit_intercept=True, n_jobs=None, normalize=False)"
            ]
          },
          "metadata": {
            "tags": []
          },
          "execution_count": 86
        }
      ]
    },
    {
      "cell_type": "code",
      "metadata": {
        "id": "qZJsm2jbCjpQ",
        "colab_type": "code",
        "outputId": "56cb1b8c-1565-4004-83a9-efb81151077f",
        "colab": {
          "base_uri": "https://localhost:8080/",
          "height": 34
        }
      },
      "source": [
        "# testing Model: Score result coefficient of determination R^2 of the prediction\n",
        "lr_confidence = lr.score(x_test, y_test)\n",
        "print(\"LR confidence: \", lr_confidence)"
      ],
      "execution_count": 0,
      "outputs": [
        {
          "output_type": "stream",
          "text": [
            "LR confidence:  0.9790504708064204\n"
          ],
          "name": "stdout"
        }
      ]
    },
    {
      "cell_type": "code",
      "metadata": {
        "id": "AZp0dMWjDIat",
        "colab_type": "code",
        "outputId": "3494393b-129d-46ef-973f-521210107baf",
        "colab": {
          "base_uri": "https://localhost:8080/",
          "height": 527
        }
      },
      "source": [
        "#set X_forecast equal to the original data set from ADJ.CLOSE\n",
        "x_forecast = np.array(df.drop(['Prediction'],1))[-forecast_out:]\n",
        "print(x_forecast)"
      ],
      "execution_count": 0,
      "outputs": [
        {
          "output_type": "stream",
          "text": [
            "[[173.15]\n",
            " [179.52]\n",
            " [179.96]\n",
            " [177.36]\n",
            " [176.01]\n",
            " [177.91]\n",
            " [178.99]\n",
            " [183.29]\n",
            " [184.93]\n",
            " [181.46]\n",
            " [178.32]\n",
            " [175.94]\n",
            " [176.62]\n",
            " [180.4 ]\n",
            " [179.78]\n",
            " [183.71]\n",
            " [182.34]\n",
            " [185.23]\n",
            " [184.76]\n",
            " [181.88]\n",
            " [184.19]\n",
            " [183.86]\n",
            " [185.09]\n",
            " [172.56]\n",
            " [168.15]\n",
            " [169.39]\n",
            " [164.89]\n",
            " [159.39]\n",
            " [160.06]\n",
            " [152.19]]\n"
          ],
          "name": "stdout"
        }
      ]
    },
    {
      "cell_type": "code",
      "metadata": {
        "id": "iTHHWPSGDwhZ",
        "colab_type": "code",
        "outputId": "b775be3b-6f17-498d-dddb-d20d337d31a9",
        "colab": {
          "base_uri": "https://localhost:8080/",
          "height": 221
        }
      },
      "source": [
        "#print prediction for the next  n days\n",
        "lr_prediction =  lr.predict(x_forecast)\n",
        "print(lr_prediction)\n",
        "#print prediction for the next  n days\n",
        "svm_prediction =  svr_rbf.predict(x_forecast)\n",
        "print(svm_prediction)"
      ],
      "execution_count": 0,
      "outputs": [
        {
          "output_type": "stream",
          "text": [
            "[176.93836364 183.35874265 183.80222252 181.18165966 179.82098279\n",
            " 181.73600949 182.82455099 187.15855879 188.81152921 185.3140857\n",
            " 182.1492521  179.75042917 180.43580715 184.24570238 183.62079893\n",
            " 187.58188049 186.20104544 189.11390185 188.64018472 185.7374074\n",
            " 188.06567671 187.7330668  188.97279462 176.34369745 171.89881968\n",
            " 173.14862658 168.61303702 163.06953866 163.74483755 155.81259536]\n",
            "[178.61483777 180.33105452 178.62057832 178.99993384 174.96746724\n",
            " 181.08141351 182.00929682 187.04377769 179.52055392 180.77067499\n",
            " 182.12997634 174.8619762  176.35098906 177.55018899 179.29380285\n",
            " 185.01246261 186.47715332 179.49406087 179.81858967 183.68259584\n",
            " 182.18307143 184.1274955  179.42960265 178.99583673 171.14521121\n",
            " 173.032362   172.82061235 167.5206288  166.30576839 161.87970859]\n"
          ],
          "name": "stdout"
        }
      ]
    }
  ]
}