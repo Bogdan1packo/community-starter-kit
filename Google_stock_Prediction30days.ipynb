{
  "nbformat": 4,
  "nbformat_minor": 0,
  "metadata": {
    "colab": {
      "name": "Google stock Prediction30days.ipynb",
      "provenance": [],
      "collapsed_sections": [],
      "include_colab_link": true
    },
    "kernelspec": {
      "name": "python3",
      "display_name": "Python 3"
    }
  },
  "cells": [
    {
      "cell_type": "markdown",
      "metadata": {
        "id": "view-in-github",
        "colab_type": "text"
      },
      "source": [
        "<a href=\"https://colab.research.google.com/github/Bogdan1packo/community-starter-kit/blob/master/Google_stock_Prediction30days.ipynb\" target=\"_parent\"><img src=\"https://colab.research.google.com/assets/colab-badge.svg\" alt=\"Open In Colab\"/></a>"
      ]
    },
    {
      "cell_type": "code",
      "metadata": {
        "id": "jwW5viEfYaNC",
        "colab_type": "code",
        "colab": {}
      },
      "source": [
        "# Descriptions: This program predicts price of Google stock for a specyfic day \n",
        "#               using the MLalgoritm called Support Vector Regresion (SVR)"
      ],
      "execution_count": 0,
      "outputs": []
    },
    {
      "cell_type": "code",
      "metadata": {
        "id": "7Sniz53GYmwF",
        "colab_type": "code",
        "colab": {}
      },
      "source": [
        "# now import the libraries\n",
        "import pandas as pd\n",
        "import numpy as np\n",
        "from sklearn.svm import SVR\n",
        "from sklearn.linear_model import LinearRegression\n",
        "import matplotlib.pyplot as plt"
      ],
      "execution_count": 0,
      "outputs": []
    },
    {
      "cell_type": "code",
      "metadata": {
        "colab_type": "code",
        "outputId": "290d950f-d9b4-44b0-dd13-06b0ecd7a969",
        "id": "CDL2X_qifayu",
        "colab": {
          "resources": {
            "http://localhost:8080/nbextensions/google.colab/files.js": {
              "data": "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",
              "ok": true,
              "headers": [
                [
                  "content-type",
                  "application/javascript"
                ]
              ],
              "status": 200,
              "status_text": ""
            }
          },
          "base_uri": "https://localhost:8080/",
          "height": 323
        }
      },
      "source": [
        "# Data loading\n",
        "from google.colab import files\n",
        "uploaded = files.upload()\n",
        "df = pd.read_csv('GOOG.csv')\n",
        "df.head(7)"
      ],
      "execution_count": 35,
      "outputs": [
        {
          "output_type": "display_data",
          "data": {
            "text/html": [
              "\n",
              "     <input type=\"file\" id=\"files-7a70b259-bc33-4357-9dfa-c9afcd9b3533\" name=\"files[]\" multiple disabled />\n",
              "     <output id=\"result-7a70b259-bc33-4357-9dfa-c9afcd9b3533\">\n",
              "      Upload widget is only available when the cell has been executed in the\n",
              "      current browser session. Please rerun this cell to enable.\n",
              "      </output>\n",
              "      <script src=\"/nbextensions/google.colab/files.js\"></script> "
            ],
            "text/plain": [
              "<IPython.core.display.HTML object>"
            ]
          },
          "metadata": {
            "tags": []
          }
        },
        {
          "output_type": "stream",
          "text": [
            "Saving GOOG.csv to GOOG.csv\n"
          ],
          "name": "stdout"
        },
        {
          "output_type": "execute_result",
          "data": {
            "text/html": [
              "<div>\n",
              "<style scoped>\n",
              "    .dataframe tbody tr th:only-of-type {\n",
              "        vertical-align: middle;\n",
              "    }\n",
              "\n",
              "    .dataframe tbody tr th {\n",
              "        vertical-align: top;\n",
              "    }\n",
              "\n",
              "    .dataframe thead th {\n",
              "        text-align: right;\n",
              "    }\n",
              "</style>\n",
              "<table border=\"1\" class=\"dataframe\">\n",
              "  <thead>\n",
              "    <tr style=\"text-align: right;\">\n",
              "      <th></th>\n",
              "      <th>Date</th>\n",
              "      <th>Open</th>\n",
              "      <th>High</th>\n",
              "      <th>Low</th>\n",
              "      <th>Close</th>\n",
              "      <th>Adj Close</th>\n",
              "      <th>Volume</th>\n",
              "    </tr>\n",
              "  </thead>\n",
              "  <tbody>\n",
              "    <tr>\n",
              "      <th>0</th>\n",
              "      <td>2019-12-02</td>\n",
              "      <td>1301.000000</td>\n",
              "      <td>1305.829956</td>\n",
              "      <td>1281.000000</td>\n",
              "      <td>1289.920044</td>\n",
              "      <td>1289.920044</td>\n",
              "      <td>1510900</td>\n",
              "    </tr>\n",
              "    <tr>\n",
              "      <th>1</th>\n",
              "      <td>2019-12-03</td>\n",
              "      <td>1279.569946</td>\n",
              "      <td>1298.461060</td>\n",
              "      <td>1279.000000</td>\n",
              "      <td>1295.280029</td>\n",
              "      <td>1295.280029</td>\n",
              "      <td>1143800</td>\n",
              "    </tr>\n",
              "    <tr>\n",
              "      <th>2</th>\n",
              "      <td>2019-12-04</td>\n",
              "      <td>1307.010010</td>\n",
              "      <td>1325.800049</td>\n",
              "      <td>1304.869995</td>\n",
              "      <td>1320.540039</td>\n",
              "      <td>1320.540039</td>\n",
              "      <td>1537500</td>\n",
              "    </tr>\n",
              "    <tr>\n",
              "      <th>3</th>\n",
              "      <td>2019-12-05</td>\n",
              "      <td>1328.000000</td>\n",
              "      <td>1329.358032</td>\n",
              "      <td>1316.439941</td>\n",
              "      <td>1328.130005</td>\n",
              "      <td>1328.130005</td>\n",
              "      <td>1212700</td>\n",
              "    </tr>\n",
              "    <tr>\n",
              "      <th>4</th>\n",
              "      <td>2019-12-06</td>\n",
              "      <td>1333.439941</td>\n",
              "      <td>1344.000000</td>\n",
              "      <td>1333.439941</td>\n",
              "      <td>1340.619995</td>\n",
              "      <td>1340.619995</td>\n",
              "      <td>1314800</td>\n",
              "    </tr>\n",
              "    <tr>\n",
              "      <th>5</th>\n",
              "      <td>2019-12-09</td>\n",
              "      <td>1338.040039</td>\n",
              "      <td>1359.449951</td>\n",
              "      <td>1337.839966</td>\n",
              "      <td>1343.560059</td>\n",
              "      <td>1343.560059</td>\n",
              "      <td>1354300</td>\n",
              "    </tr>\n",
              "    <tr>\n",
              "      <th>6</th>\n",
              "      <td>2019-12-10</td>\n",
              "      <td>1341.500000</td>\n",
              "      <td>1349.974976</td>\n",
              "      <td>1336.040039</td>\n",
              "      <td>1344.660034</td>\n",
              "      <td>1344.660034</td>\n",
              "      <td>1094100</td>\n",
              "    </tr>\n",
              "  </tbody>\n",
              "</table>\n",
              "</div>"
            ],
            "text/plain": [
              "         Date         Open         High  ...        Close    Adj Close   Volume\n",
              "0  2019-12-02  1301.000000  1305.829956  ...  1289.920044  1289.920044  1510900\n",
              "1  2019-12-03  1279.569946  1298.461060  ...  1295.280029  1295.280029  1143800\n",
              "2  2019-12-04  1307.010010  1325.800049  ...  1320.540039  1320.540039  1537500\n",
              "3  2019-12-05  1328.000000  1329.358032  ...  1328.130005  1328.130005  1212700\n",
              "4  2019-12-06  1333.439941  1344.000000  ...  1340.619995  1340.619995  1314800\n",
              "5  2019-12-09  1338.040039  1359.449951  ...  1343.560059  1343.560059  1354300\n",
              "6  2019-12-10  1341.500000  1349.974976  ...  1344.660034  1344.660034  1094100\n",
              "\n",
              "[7 rows x 7 columns]"
            ]
          },
          "metadata": {
            "tags": []
          },
          "execution_count": 35
        }
      ]
    },
    {
      "cell_type": "code",
      "metadata": {
        "id": "pHY7QBI4dgLE",
        "colab_type": "code",
        "colab": {}
      },
      "source": [
        "# Now Create the lists one for data one for prices\n",
        "dates = []\n",
        "prices = []"
      ],
      "execution_count": 0,
      "outputs": []
    },
    {
      "cell_type": "code",
      "metadata": {
        "id": "kEtgbMmmd4vt",
        "colab_type": "code",
        "colab": {
          "base_uri": "https://localhost:8080/",
          "height": 34
        },
        "outputId": "e13c4648-ffcc-4422-e3df-5563831c0f58"
      },
      "source": [
        "# checking shape of data set (row and columns)\n",
        "df.shape"
      ],
      "execution_count": 37,
      "outputs": [
        {
          "output_type": "execute_result",
          "data": {
            "text/plain": [
              "(19, 7)"
            ]
          },
          "metadata": {
            "tags": []
          },
          "execution_count": 37
        }
      ]
    },
    {
      "cell_type": "code",
      "metadata": {
        "id": "S6zgZ79leNLP",
        "colab_type": "code",
        "colab": {
          "base_uri": "https://localhost:8080/",
          "height": 80
        },
        "outputId": "63c754ec-7a99-43ed-ab0d-2410fa0b7486"
      },
      "source": [
        "# checking last row of data - it will be testing data to check our model\n",
        "df.tail(1)"
      ],
      "execution_count": 38,
      "outputs": [
        {
          "output_type": "execute_result",
          "data": {
            "text/html": [
              "<div>\n",
              "<style scoped>\n",
              "    .dataframe tbody tr th:only-of-type {\n",
              "        vertical-align: middle;\n",
              "    }\n",
              "\n",
              "    .dataframe tbody tr th {\n",
              "        vertical-align: top;\n",
              "    }\n",
              "\n",
              "    .dataframe thead th {\n",
              "        text-align: right;\n",
              "    }\n",
              "</style>\n",
              "<table border=\"1\" class=\"dataframe\">\n",
              "  <thead>\n",
              "    <tr style=\"text-align: right;\">\n",
              "      <th></th>\n",
              "      <th>Date</th>\n",
              "      <th>Open</th>\n",
              "      <th>High</th>\n",
              "      <th>Low</th>\n",
              "      <th>Close</th>\n",
              "      <th>Adj Close</th>\n",
              "      <th>Volume</th>\n",
              "    </tr>\n",
              "  </thead>\n",
              "  <tbody>\n",
              "    <tr>\n",
              "      <th>18</th>\n",
              "      <td>2019-12-27</td>\n",
              "      <td>1362.98999</td>\n",
              "      <td>1364.530029</td>\n",
              "      <td>1349.310059</td>\n",
              "      <td>1351.890015</td>\n",
              "      <td>1351.890015</td>\n",
              "      <td>1038400</td>\n",
              "    </tr>\n",
              "  </tbody>\n",
              "</table>\n",
              "</div>"
            ],
            "text/plain": [
              "          Date        Open         High  ...        Close    Adj Close   Volume\n",
              "18  2019-12-27  1362.98999  1364.530029  ...  1351.890015  1351.890015  1038400\n",
              "\n",
              "[1 rows x 7 columns]"
            ]
          },
          "metadata": {
            "tags": []
          },
          "execution_count": 38
        }
      ]
    },
    {
      "cell_type": "code",
      "metadata": {
        "id": "ZjV3DZdVejnw",
        "colab_type": "code",
        "colab": {}
      },
      "source": [
        " # 18\t2019-12-27\t1362.98999\t1364.530029\t1349.310059\t1351.890015\t1351.890015\t1038400"
      ],
      "execution_count": 0,
      "outputs": []
    },
    {
      "cell_type": "code",
      "metadata": {
        "id": "tJaUbTIceukT",
        "colab_type": "code",
        "colab": {
          "base_uri": "https://localhost:8080/",
          "height": 607
        },
        "outputId": "1f6e1abc-8c8b-408a-bd23-5a8cc3e5d8f1"
      },
      "source": [
        "# Gwt allof data except our last row(testing data)\n",
        "df = df.head(len(df)-1)\n",
        "df"
      ],
      "execution_count": 39,
      "outputs": [
        {
          "output_type": "execute_result",
          "data": {
            "text/html": [
              "<div>\n",
              "<style scoped>\n",
              "    .dataframe tbody tr th:only-of-type {\n",
              "        vertical-align: middle;\n",
              "    }\n",
              "\n",
              "    .dataframe tbody tr th {\n",
              "        vertical-align: top;\n",
              "    }\n",
              "\n",
              "    .dataframe thead th {\n",
              "        text-align: right;\n",
              "    }\n",
              "</style>\n",
              "<table border=\"1\" class=\"dataframe\">\n",
              "  <thead>\n",
              "    <tr style=\"text-align: right;\">\n",
              "      <th></th>\n",
              "      <th>Date</th>\n",
              "      <th>Open</th>\n",
              "      <th>High</th>\n",
              "      <th>Low</th>\n",
              "      <th>Close</th>\n",
              "      <th>Adj Close</th>\n",
              "      <th>Volume</th>\n",
              "    </tr>\n",
              "  </thead>\n",
              "  <tbody>\n",
              "    <tr>\n",
              "      <th>0</th>\n",
              "      <td>2019-12-02</td>\n",
              "      <td>1301.000000</td>\n",
              "      <td>1305.829956</td>\n",
              "      <td>1281.000000</td>\n",
              "      <td>1289.920044</td>\n",
              "      <td>1289.920044</td>\n",
              "      <td>1510900</td>\n",
              "    </tr>\n",
              "    <tr>\n",
              "      <th>1</th>\n",
              "      <td>2019-12-03</td>\n",
              "      <td>1279.569946</td>\n",
              "      <td>1298.461060</td>\n",
              "      <td>1279.000000</td>\n",
              "      <td>1295.280029</td>\n",
              "      <td>1295.280029</td>\n",
              "      <td>1143800</td>\n",
              "    </tr>\n",
              "    <tr>\n",
              "      <th>2</th>\n",
              "      <td>2019-12-04</td>\n",
              "      <td>1307.010010</td>\n",
              "      <td>1325.800049</td>\n",
              "      <td>1304.869995</td>\n",
              "      <td>1320.540039</td>\n",
              "      <td>1320.540039</td>\n",
              "      <td>1537500</td>\n",
              "    </tr>\n",
              "    <tr>\n",
              "      <th>3</th>\n",
              "      <td>2019-12-05</td>\n",
              "      <td>1328.000000</td>\n",
              "      <td>1329.358032</td>\n",
              "      <td>1316.439941</td>\n",
              "      <td>1328.130005</td>\n",
              "      <td>1328.130005</td>\n",
              "      <td>1212700</td>\n",
              "    </tr>\n",
              "    <tr>\n",
              "      <th>4</th>\n",
              "      <td>2019-12-06</td>\n",
              "      <td>1333.439941</td>\n",
              "      <td>1344.000000</td>\n",
              "      <td>1333.439941</td>\n",
              "      <td>1340.619995</td>\n",
              "      <td>1340.619995</td>\n",
              "      <td>1314800</td>\n",
              "    </tr>\n",
              "    <tr>\n",
              "      <th>5</th>\n",
              "      <td>2019-12-09</td>\n",
              "      <td>1338.040039</td>\n",
              "      <td>1359.449951</td>\n",
              "      <td>1337.839966</td>\n",
              "      <td>1343.560059</td>\n",
              "      <td>1343.560059</td>\n",
              "      <td>1354300</td>\n",
              "    </tr>\n",
              "    <tr>\n",
              "      <th>6</th>\n",
              "      <td>2019-12-10</td>\n",
              "      <td>1341.500000</td>\n",
              "      <td>1349.974976</td>\n",
              "      <td>1336.040039</td>\n",
              "      <td>1344.660034</td>\n",
              "      <td>1344.660034</td>\n",
              "      <td>1094100</td>\n",
              "    </tr>\n",
              "    <tr>\n",
              "      <th>7</th>\n",
              "      <td>2019-12-11</td>\n",
              "      <td>1350.839966</td>\n",
              "      <td>1351.199951</td>\n",
              "      <td>1342.670044</td>\n",
              "      <td>1345.020020</td>\n",
              "      <td>1345.020020</td>\n",
              "      <td>850400</td>\n",
              "    </tr>\n",
              "    <tr>\n",
              "      <th>8</th>\n",
              "      <td>2019-12-12</td>\n",
              "      <td>1345.939941</td>\n",
              "      <td>1355.775024</td>\n",
              "      <td>1340.500000</td>\n",
              "      <td>1350.270020</td>\n",
              "      <td>1350.270020</td>\n",
              "      <td>1281000</td>\n",
              "    </tr>\n",
              "    <tr>\n",
              "      <th>9</th>\n",
              "      <td>2019-12-13</td>\n",
              "      <td>1347.949951</td>\n",
              "      <td>1353.093018</td>\n",
              "      <td>1343.869995</td>\n",
              "      <td>1347.829956</td>\n",
              "      <td>1347.829956</td>\n",
              "      <td>1549600</td>\n",
              "    </tr>\n",
              "    <tr>\n",
              "      <th>10</th>\n",
              "      <td>2019-12-16</td>\n",
              "      <td>1356.500000</td>\n",
              "      <td>1364.680054</td>\n",
              "      <td>1352.670044</td>\n",
              "      <td>1361.170044</td>\n",
              "      <td>1361.170044</td>\n",
              "      <td>1397300</td>\n",
              "    </tr>\n",
              "    <tr>\n",
              "      <th>11</th>\n",
              "      <td>2019-12-17</td>\n",
              "      <td>1362.890015</td>\n",
              "      <td>1365.000000</td>\n",
              "      <td>1351.322998</td>\n",
              "      <td>1355.119995</td>\n",
              "      <td>1355.119995</td>\n",
              "      <td>1854000</td>\n",
              "    </tr>\n",
              "    <tr>\n",
              "      <th>12</th>\n",
              "      <td>2019-12-18</td>\n",
              "      <td>1356.599976</td>\n",
              "      <td>1360.469971</td>\n",
              "      <td>1351.000000</td>\n",
              "      <td>1352.619995</td>\n",
              "      <td>1352.619995</td>\n",
              "      <td>1522600</td>\n",
              "    </tr>\n",
              "    <tr>\n",
              "      <th>13</th>\n",
              "      <td>2019-12-19</td>\n",
              "      <td>1351.819946</td>\n",
              "      <td>1358.099976</td>\n",
              "      <td>1348.984985</td>\n",
              "      <td>1356.040039</td>\n",
              "      <td>1356.040039</td>\n",
              "      <td>1469900</td>\n",
              "    </tr>\n",
              "    <tr>\n",
              "      <th>14</th>\n",
              "      <td>2019-12-20</td>\n",
              "      <td>1363.349976</td>\n",
              "      <td>1363.640015</td>\n",
              "      <td>1349.000000</td>\n",
              "      <td>1349.589966</td>\n",
              "      <td>1349.589966</td>\n",
              "      <td>3315000</td>\n",
              "    </tr>\n",
              "    <tr>\n",
              "      <th>15</th>\n",
              "      <td>2019-12-23</td>\n",
              "      <td>1355.869995</td>\n",
              "      <td>1359.800049</td>\n",
              "      <td>1346.510010</td>\n",
              "      <td>1348.839966</td>\n",
              "      <td>1348.839966</td>\n",
              "      <td>883100</td>\n",
              "    </tr>\n",
              "    <tr>\n",
              "      <th>16</th>\n",
              "      <td>2019-12-24</td>\n",
              "      <td>1348.500000</td>\n",
              "      <td>1350.260010</td>\n",
              "      <td>1342.780029</td>\n",
              "      <td>1343.560059</td>\n",
              "      <td>1343.560059</td>\n",
              "      <td>347500</td>\n",
              "    </tr>\n",
              "    <tr>\n",
              "      <th>17</th>\n",
              "      <td>2019-12-26</td>\n",
              "      <td>1346.170044</td>\n",
              "      <td>1361.327026</td>\n",
              "      <td>1344.469971</td>\n",
              "      <td>1360.400024</td>\n",
              "      <td>1360.400024</td>\n",
              "      <td>667500</td>\n",
              "    </tr>\n",
              "  </tbody>\n",
              "</table>\n",
              "</div>"
            ],
            "text/plain": [
              "          Date         Open         High  ...        Close    Adj Close   Volume\n",
              "0   2019-12-02  1301.000000  1305.829956  ...  1289.920044  1289.920044  1510900\n",
              "1   2019-12-03  1279.569946  1298.461060  ...  1295.280029  1295.280029  1143800\n",
              "2   2019-12-04  1307.010010  1325.800049  ...  1320.540039  1320.540039  1537500\n",
              "3   2019-12-05  1328.000000  1329.358032  ...  1328.130005  1328.130005  1212700\n",
              "4   2019-12-06  1333.439941  1344.000000  ...  1340.619995  1340.619995  1314800\n",
              "5   2019-12-09  1338.040039  1359.449951  ...  1343.560059  1343.560059  1354300\n",
              "6   2019-12-10  1341.500000  1349.974976  ...  1344.660034  1344.660034  1094100\n",
              "7   2019-12-11  1350.839966  1351.199951  ...  1345.020020  1345.020020   850400\n",
              "8   2019-12-12  1345.939941  1355.775024  ...  1350.270020  1350.270020  1281000\n",
              "9   2019-12-13  1347.949951  1353.093018  ...  1347.829956  1347.829956  1549600\n",
              "10  2019-12-16  1356.500000  1364.680054  ...  1361.170044  1361.170044  1397300\n",
              "11  2019-12-17  1362.890015  1365.000000  ...  1355.119995  1355.119995  1854000\n",
              "12  2019-12-18  1356.599976  1360.469971  ...  1352.619995  1352.619995  1522600\n",
              "13  2019-12-19  1351.819946  1358.099976  ...  1356.040039  1356.040039  1469900\n",
              "14  2019-12-20  1363.349976  1363.640015  ...  1349.589966  1349.589966  3315000\n",
              "15  2019-12-23  1355.869995  1359.800049  ...  1348.839966  1348.839966   883100\n",
              "16  2019-12-24  1348.500000  1350.260010  ...  1343.560059  1343.560059   347500\n",
              "17  2019-12-26  1346.170044  1361.327026  ...  1360.400024  1360.400024   667500\n",
              "\n",
              "[18 rows x 7 columns]"
            ]
          },
          "metadata": {
            "tags": []
          },
          "execution_count": 39
        }
      ]
    },
    {
      "cell_type": "code",
      "metadata": {
        "id": "2H3WJfbAfesA",
        "colab_type": "code",
        "colab": {
          "base_uri": "https://localhost:8080/",
          "height": 34
        },
        "outputId": "b95d99c8-35af-4e3b-9973-c3ae47d6fc45"
      },
      "source": [
        "#checking new shape\n",
        "df.shape"
      ],
      "execution_count": 40,
      "outputs": [
        {
          "output_type": "execute_result",
          "data": {
            "text/plain": [
              "(18, 7)"
            ]
          },
          "metadata": {
            "tags": []
          },
          "execution_count": 40
        }
      ]
    },
    {
      "cell_type": "code",
      "metadata": {
        "id": "j8by3y6afrSJ",
        "colab_type": "code",
        "colab": {}
      },
      "source": [
        "# Getting all of the rows from the \"Data\" column\n",
        "df_dates = df.loc[:,'Date']\n",
        "# Getting all of the rows from the \"Open\" column\n",
        "df_open = df.loc[:,'Open']"
      ],
      "execution_count": 0,
      "outputs": []
    },
    {
      "cell_type": "code",
      "metadata": {
        "id": "s1cxPW1ogmId",
        "colab_type": "code",
        "colab": {}
      },
      "source": [
        "# creating thr independent data setX\n",
        "for date in df_dates:\n",
        "  dates.append( [int(date.split('-')[2])])"
      ],
      "execution_count": 0,
      "outputs": []
    },
    {
      "cell_type": "code",
      "metadata": {
        "colab_type": "code",
        "id": "bv1zdafuh6BP",
        "colab": {}
      },
      "source": [
        "#Creating dependent data set Y\n",
        "for open_price in df_open:\n",
        "  prices.append(float(open_price))"
      ],
      "execution_count": 0,
      "outputs": []
    },
    {
      "cell_type": "code",
      "metadata": {
        "id": "v0kNO0Sjifx5",
        "colab_type": "code",
        "colab": {
          "base_uri": "https://localhost:8080/",
          "height": 34
        },
        "outputId": "89040164-1c8b-4fed-eb85-ff080fa27016"
      },
      "source": [
        "# printing recorded day\n",
        "print(dates)"
      ],
      "execution_count": 44,
      "outputs": [
        {
          "output_type": "stream",
          "text": [
            "[[2], [3], [4], [5], [6], [9], [10], [11], [12], [13], [16], [17], [18], [19], [20], [23], [24], [26]]\n"
          ],
          "name": "stdout"
        }
      ]
    },
    {
      "cell_type": "code",
      "metadata": {
        "id": "Cf98b54sizWQ",
        "colab_type": "code",
        "colab": {}
      },
      "source": [
        "def predict_prices(dates, prices, x):\n",
        "  # ceating the 3 Support Vector Regression models\n",
        "  svr_lin = SVR(kernel='linear', C=1e3)\n",
        "  svr_poly = SVR(kernel='poly', C=1e3, degree=2)\n",
        "  svr_rbf= SVR(kernel='rbf', C=1e3, gamma=0.1)\n",
        "  # Training SVRmodels:\n",
        "  svr_lin.fit(dates,prices)\n",
        "  svr_poly.fit(dates,prices)\n",
        "  svr_rbf.fit(dates,prices)\n",
        "  # Creating the Linear Regression Model\n",
        "  lin_reg = LinearRegression()\n",
        "  #training the Linear Regression Model\n",
        "  lin_reg.fit(dates, prices)\n",
        "  # Ploting the model on a graph to see whic has the best fitting\n",
        "  plt.scatter(dates, prices, color='black', label='Data')\n",
        "  plt.plot(dates, svr_rbf.predict(dates), color='red', label='SVR RBF')\n",
        "  plt.plot(dates, svr_poly.predict(dates), color='blue', label='SVR POLY')\n",
        "  plt.plot(dates, svr_lin.predict(dates), color='green', label='SVR LINEAR')\n",
        "  plt.plot(dates, lin_reg.predict(dates), color='orange', label='SVR Linear Reg')\n",
        "  plt.xlabel('Days')\n",
        "  plt.ylabel('Price')\n",
        "  plt.title('Regression')\n",
        "  plt.show()\n",
        "  return svr_rbf.predict(x)[0], svr_lin.predict(x)[0], svr_poly.predict(x)[0], lin_reg.predict(x)[0]"
      ],
      "execution_count": 0,
      "outputs": []
    },
    {
      "cell_type": "code",
      "metadata": {
        "id": "6J1jqTVwowHp",
        "colab_type": "code",
        "colab": {
          "base_uri": "https://localhost:8080/",
          "height": 366
        },
        "outputId": "0df3789b-ec8b-420d-93c7-62662aa27dd8"
      },
      "source": [
        "#Predicting price of google stock price on day 2019-12-27\t1362.98999\n",
        "predicted_price = predict_prices(dates, prices,[[27]])\n",
        "print(predicted_price)"
      ],
      "execution_count": 45,
      "outputs": [
        {
          "output_type": "stream",
          "text": [
            "/usr/local/lib/python3.6/dist-packages/sklearn/svm/base.py:193: FutureWarning: The default value of gamma will change from 'auto' to 'scale' in version 0.22 to account better for unscaled features. Set gamma explicitly to 'auto' or 'scale' to avoid this warning.\n",
            "  \"avoid this warning.\", FutureWarning)\n"
          ],
          "name": "stderr"
        },
        {
          "output_type": "display_data",
          "data": {
            "image/png": "[encoded data removed]",
            "text/plain": [
              "<Figure size 432x288 with 1 Axes>"
            ]
          },
          "metadata": {
            "tags": []
          }
        },
        {
          "output_type": "stream",
          "text": [
            "(1341.3460092968548, 1374.859912999957, 1369.5678238313126, 1371.564775695712)\n"
          ],
          "name": "stdout"
        }
      ]
    }
  ]
}